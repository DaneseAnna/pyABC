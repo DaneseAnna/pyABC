{
 "cells": [
  {
   "cell_type": "markdown",
   "metadata": {},
   "source": [
    "# Modifying the acceptance step"
   ]
  },
  {
   "cell_type": "code",
   "execution_count": 2,
   "metadata": {},
   "outputs": [],
   "source": [
    "import pyabc\n",
    "import pyabc.visualization\n",
    "import numpy as np\n",
    "import scipy as sp\n",
    "import tempfile\n",
    "import logging"
   ]
  },
  {
   "cell_type": "code",
   "execution_count": 5,
   "metadata": {},
   "outputs": [],
   "source": [
    "# for debugging\n",
    "logger = logging.getLogger('Acceptor')\n",
    "logger.setLevel(logging.DEBUG)\n",
    "\n",
    "# model definition\n",
    "def model_deterministic(p):\n",
    "    return {'s0': p['theta'] + 1,\n",
    "            's1': 2}\n",
    "\n",
    "def model_random(p):\n",
    "    return {'s0': p['theta'] + 1 + 0.1 * scipy.randn(),\n",
    "            's1': 2 + 10*scipy.randn()}\n",
    "\n",
    "# true model parameter\n",
    "theta_true = 3\n",
    "\n",
    "# observed summary statistics\n",
    "observation = {'s0': theta_true + 1, 's1': 2}\n",
    "\n",
    "#prior distribution\n",
    "prior = pyabc.Distribution(theta= pyabc.RV('uniform', 0, 10))"
   ]
  },
  {
   "cell_type": "code",
   "execution_count": null,
   "metadata": {},
   "outputs": [],
   "source": []
  }
 ],
 "metadata": {
  "kernelspec": {
   "display_name": "Python 3",
   "language": "python",
   "name": "python3"
  },
  "language_info": {
   "codemirror_mode": {
    "name": "ipython",
    "version": 3
   },
   "file_extension": ".py",
   "mimetype": "text/x-python",
   "name": "python",
   "nbconvert_exporter": "python",
   "pygments_lexer": "ipython3",
   "version": "3.6.6"
  }
 },
 "nbformat": 4,
 "nbformat_minor": 2
}
